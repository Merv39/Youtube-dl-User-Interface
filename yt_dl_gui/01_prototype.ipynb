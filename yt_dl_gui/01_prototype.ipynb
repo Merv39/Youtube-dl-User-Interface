{
 "cells": [
  {
   "cell_type": "code",
   "execution_count": 1,
   "id": "34067487",
   "metadata": {},
   "outputs": [
    {
     "name": "stdout",
     "output_type": "stream",
     "text": [
      "Requirement already satisfied: yt-dlp in c:\\users\\hero\\appdata\\local\\programs\\python\\python310\\lib\\site-packages (2025.8.27)\n"
     ]
    },
    {
     "name": "stderr",
     "output_type": "stream",
     "text": [
      "\n",
      "[notice] A new release of pip is available: 24.0 -> 25.2\n",
      "[notice] To update, run: python.exe -m pip install --upgrade pip\n"
     ]
    }
   ],
   "source": [
    "! pip install yt-dlp"
   ]
  },
  {
   "cell_type": "code",
   "execution_count": 2,
   "id": "54f202b9",
   "metadata": {},
   "outputs": [],
   "source": [
    "from yt_dlp import YoutubeDL"
   ]
  },
  {
   "cell_type": "markdown",
   "id": "a06630aa",
   "metadata": {},
   "source": [
    "https://github.com/ytdl-org/youtube-dl?tab=readme-ov-file#options"
   ]
  },
  {
   "cell_type": "code",
   "execution_count": 11,
   "id": "d95c5277",
   "metadata": {},
   "outputs": [
    {
     "name": "stdout",
     "output_type": "stream",
     "text": [
      "Parent directory: c:\\Users\\Hero\\Documents\\GitHub\\Youtube-dl-User-Interface\n",
      "c:\\Users\\Hero\\Documents\\GitHub\\Youtube-dl-User-Interface\\yt_dl_gui\n",
      "FFmpeg not found.\n"
     ]
    }
   ],
   "source": [
    "#options\n",
    "import os\n",
    "parent_dir = os.path.dirname(os.getcwd())\n",
    "print(f'Parent directory: {parent_dir}')\n",
    "print(os.getcwd())\n",
    "download_dir = os.path.join(parent_dir, 'downloads')\n",
    "os.makedirs(download_dir, exist_ok=True)\n",
    "\n",
    "#check if ffmpeg exists, if not, download it\n",
    "import shutil\n",
    "ffmpeg_dir = shutil.which('ffmpeg')\n",
    "if ffmpeg_dir:\n",
    "    print(f'FFmpeg found at {ffmpeg_dir}.')\n",
    "    ffmpeg_dir = os.path.dirname(ffmpeg_dir)\n",
    "else:\n",
    "    print('FFmpeg not found.')\n",
    "    ffmpeg_dir = os.path.join(parent_dir, 'ffmpeg')"
   ]
  },
  {
   "cell_type": "markdown",
   "id": "7b902f64",
   "metadata": {},
   "source": [
    "### Downloading FFmpeg"
   ]
  },
  {
   "cell_type": "code",
   "execution_count": 4,
   "id": "1ac14dd2",
   "metadata": {},
   "outputs": [],
   "source": [
    "def download_ffmpeg() -> None:\n",
    "    import requests\n",
    "    import zipfile\n",
    "    import io\n",
    "    import time\n",
    "    import sys\n",
    "\n",
    "    # URL of FFmpeg Essentials Build (Windows 64-bit)\n",
    "    url = \"https://www.gyan.dev/ffmpeg/builds/ffmpeg-release-essentials.zip\"\n",
    "    zip_path = os.path.join(ffmpeg_dir, 'ffmpeg.zip')\n",
    "\n",
    "    print('Downloading FFmpeg...')\n",
    "    response = requests.get(url=url, stream=True)\n",
    "    downloaded = 0\n",
    "    start_time = time.time()\n",
    "\n",
    "    with open(zip_path, 'wb') as f:\n",
    "        for chunk in response.iter_content(chunk_size=8192):\n",
    "            f.write(chunk)\n",
    "            downloaded += len(chunk)\n",
    "            elapsed_time = time.time() - start_time\n",
    "            speed = downloaded / (1024*1024) / elapsed_time #MB/s\n",
    "            sys.stdout.flush()\n",
    "            sys.stdout.write('\\rDownloading at {0:.2f} MB/s'.format(speed).ljust(30))\n",
    "\n",
    "    #extract only ffmpeg.exe and ffprobe.exe\n",
    "    with zipfile.ZipFile(zip_path, 'r') as zip_ref:\n",
    "        for file in zip_ref.namelist():\n",
    "            if file.endswith('ffmpeg.exe') or file.endswith('ffprobe.exe'):\n",
    "                # Extract to ffmpeg_dir, flattening the directory structure\n",
    "                target_path = os.path.join(ffmpeg_dir, os.path.basename(file))\n",
    "                with zip_ref.open(file) as source, open(target_path, 'wb') as target:\n",
    "                    target.write(source.read())\n",
    "    \n",
    "    os.remove(zip_path)"
   ]
  },
  {
   "cell_type": "code",
   "execution_count": 5,
   "id": "528583a7",
   "metadata": {},
   "outputs": [],
   "source": [
    "if not (os.path.exists(os.path.join(ffmpeg_dir, 'ffmpeg.exe')) or os.path.exists(os.path.join(ffmpeg_dir, 'ffprobe.exe'))):\n",
    "    download_ffmpeg()"
   ]
  },
  {
   "cell_type": "markdown",
   "id": "34666e42",
   "metadata": {},
   "source": [
    "### MP4"
   ]
  },
  {
   "cell_type": "code",
   "execution_count": 6,
   "id": "0eb84d20",
   "metadata": {},
   "outputs": [],
   "source": [
    "ydl_options = {\n",
    "    'format': 'best',\n",
    "    'outtmpl': os.path.join(download_dir, '%(title)s.%(ext)s'),\n",
    "}"
   ]
  },
  {
   "cell_type": "markdown",
   "id": "165fefd1",
   "metadata": {},
   "source": [
    "### FLAC"
   ]
  },
  {
   "cell_type": "code",
   "execution_count": 7,
   "id": "860cb8ec",
   "metadata": {},
   "outputs": [],
   "source": [
    "ydl_options = {\n",
    "    'format': 'bestaudio/best',\n",
    "    'outtmpl': os.path.join(download_dir, '%(title)s.%(ext)s'),\n",
    "    'ffmpeg_location': ffmpeg_dir,\n",
    "    'postprocessors': [{\n",
    "        'key': 'FFmpegExtractAudio',\n",
    "        'preferredcodec': 'flac',\n",
    "    }]\n",
    "}"
   ]
  },
  {
   "cell_type": "markdown",
   "id": "b1a129de",
   "metadata": {},
   "source": [
    "### MP3  \n",
    "(note: mp3 typically delays signal by 10-50ms)"
   ]
  },
  {
   "cell_type": "code",
   "execution_count": 8,
   "id": "2d8b7861",
   "metadata": {},
   "outputs": [],
   "source": [
    "ydl_options = {\n",
    "    'format': 'bestaudio/best',\n",
    "    'outtmpl': os.path.join(download_dir, '%(title)s.%(ext)s'),\n",
    "    'ffmpeg_location': ffmpeg_dir,\n",
    "    'postprocessors': [{\n",
    "        'key': 'FFmpegExtractAudio',\n",
    "        'preferredcodec': 'mp3',\n",
    "        'preferredquality': '0', # tells ffmpeg to use VBR\n",
    "    }]\n",
    "}"
   ]
  },
  {
   "cell_type": "code",
   "execution_count": 9,
   "id": "610afdec",
   "metadata": {},
   "outputs": [
    {
     "name": "stdout",
     "output_type": "stream",
     "text": [
      "[youtube] Extracting URL: https://www.youtube.com/watch?v=KZt4AVVR_aU\n",
      "[youtube] KZt4AVVR_aU: Downloading webpage\n",
      "[youtube] KZt4AVVR_aU: Downloading tv simply player API JSON\n",
      "[youtube] KZt4AVVR_aU: Downloading tv client config\n",
      "[youtube] KZt4AVVR_aU: Downloading tv player API JSON\n",
      "[info] KZt4AVVR_aU: Downloading 1 format(s): 251\n",
      "[download] Sleeping 3.00 seconds as required by the site...\n",
      "[download] Destination: c:\\Users\\Hero\\Documents\\GitHub\\Youtube-dl-User-Interface\\downloads\\MIKUMV.webm\n",
      "[download] 100% of  353.10KiB in 00:00:00 at 2.43MiB/s   \n",
      "[ExtractAudio] Destination: c:\\Users\\Hero\\Documents\\GitHub\\Youtube-dl-User-Interface\\downloads\\MIKUMV.mp3\n",
      "Deleting original file c:\\Users\\Hero\\Documents\\GitHub\\Youtube-dl-User-Interface\\downloads\\MIKUMV.webm (pass -k to keep)\n"
     ]
    }
   ],
   "source": [
    "URL = 'https://www.youtube.com/watch?v=KZt4AVVR_aU'\n",
    "\n",
    "with YoutubeDL(ydl_options) as ydl:\n",
    "    ydl.download([URL])"
   ]
  }
 ],
 "metadata": {
  "kernelspec": {
   "display_name": "Python 3",
   "language": "python",
   "name": "python3"
  },
  "language_info": {
   "codemirror_mode": {
    "name": "ipython",
    "version": 3
   },
   "file_extension": ".py",
   "mimetype": "text/x-python",
   "name": "python",
   "nbconvert_exporter": "python",
   "pygments_lexer": "ipython3",
   "version": "3.10.3"
  }
 },
 "nbformat": 4,
 "nbformat_minor": 5
}
